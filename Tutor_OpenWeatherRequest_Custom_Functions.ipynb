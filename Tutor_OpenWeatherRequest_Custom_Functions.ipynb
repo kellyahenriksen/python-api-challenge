{
 "cells": [
  {
   "cell_type": "code",
   "execution_count": null,
   "metadata": {},
   "outputs": [],
   "source": []
  },
  {
   "cell_type": "code",
   "execution_count": 26,
   "metadata": {
    "ExecuteTime": {
     "end_time": "2021-01-15T17:02:03.421924Z",
     "start_time": "2021-01-15T17:02:03.419097Z"
    }
   },
   "outputs": [],
   "source": [
    "# Dependencies\n",
    "import json\n",
    "import requests\n",
    "from config import api_key\n",
    "\n",
    "# Incorporated citipy to determine city based on latitude and longitude\n",
    "from citipy import citipy\n",
    "\n",
    "from pprint import pprint\n",
    "import pandas as pd\n",
    "import numpy as np"
   ]
  },
  {
   "cell_type": "code",
   "execution_count": 29,
   "metadata": {
    "ExecuteTime": {
     "end_time": "2021-01-15T17:02:39.850451Z",
     "start_time": "2021-01-15T17:02:39.827658Z"
    }
   },
   "outputs": [
    {
     "data": {
      "text/plain": [
       "15"
      ]
     },
     "execution_count": 29,
     "metadata": {},
     "output_type": "execute_result"
    }
   ],
   "source": [
    "# Range of latitudes and longitudes\n",
    "lat_range = (-90, 90)\n",
    "lng_range = (-180, 180)\n",
    "\n",
    "#List for holding lat_lngs and cities\n",
    "lat_lngs = []\n",
    "cities = []\n",
    "\n",
    "# Create a set of random lat and lng combinations\n",
    "lats = np.random.uniform(lat_range[0], lat_range[1], size=15)\n",
    "lngs = np.random.uniform(lng_range[0], lng_range[1], size=15)\n",
    "lat_lngs = zip(lats, lngs)\n",
    "\n",
    "# Identify nearest city for each lat, lng combination\n",
    "for lat_lng in lat_lngs:\n",
    "    city = citipy.nearest_city(lat_lng[0], lat_lng[1]).city_name\n",
    "    \n",
    "    # If the city is unique, then add it to a our cities list\n",
    "    if city not in cities:\n",
    "        cities.append(city)\n",
    "\n",
    "# Print the city count to confirm sufficient count\n",
    "len(cities)"
   ]
  },
  {
   "cell_type": "code",
   "execution_count": 34,
   "metadata": {
    "ExecuteTime": {
     "end_time": "2021-01-15T17:12:34.782496Z",
     "start_time": "2021-01-15T17:12:33.170791Z"
    }
   },
   "outputs": [
    {
     "name": "stdout",
     "output_type": "stream",
     "text": [
      "        Date       Cities      Lat       Lon  Cloudiness(%)\n",
      "0   01/15/21      shimoda  34.6667  138.9500              9\n",
      "1   01/15/21    sistranda  63.7256    8.8340             75\n",
      "2   01/15/21      vaitape -16.5167 -151.7500             85\n",
      "3   01/15/21     thompson  55.7435  -97.8558             75\n",
      "4   01/15/21    kurayoshi  35.4333  133.8167             75\n",
      "5   01/15/21    koulikoro  14.0000   -7.7500              0\n",
      "6   01/15/21        vaini -21.2000 -175.2000             40\n",
      "7   01/15/21      qaanaaq  77.4840  -69.3632            100\n",
      "8   01/15/21  port alfred -33.5906   26.8910            100\n",
      "9   01/15/21       koslan  63.4564   48.8989            100\n",
      "10  01/15/21         lebu -37.6167  -73.6500             39\n",
      "11  01/15/21         miri   4.4148  114.0089             40\n",
      "12  01/15/21    paragould  36.0584  -90.4973              1\n",
      "13  01/15/21       juneau  58.3019 -134.4197             90\n"
     ]
    }
   ],
   "source": [
    "# Save config information\n",
    "url = \"http://api.openweathermap.org/data/2.5/weather?\"\n",
    "\n",
    "# add the coords to these lists\n",
    "lats = []\n",
    "lons = []\n",
    "clouds = []\n",
    "dates = []\n",
    "list_of_cities = []\n",
    "\n",
    "# start loop to get through our cities \n",
    "for city in cities:\n",
    "\n",
    "    try:\n",
    "        # Build query URL\n",
    "        query_url = url + \"appid=\" + api_key + \"&q=\" + city\n",
    "\n",
    "        weather_response = requests.get(query_url)\n",
    "        weather_json = weather_response.json()\n",
    "\n",
    "        # select the latitude/lon from the json response\n",
    "        lat = weather_json[\"coord\"][\"lat\"]\n",
    "        lon = weather_json[\"coord\"][\"lon\"]\n",
    "        cloud = weather_json[\"clouds\"][\"all\"]\n",
    "        \n",
    "        # select date and convert that code to Date using strftime\n",
    "        date = weather_json[\"dt\"]\n",
    "        date = time.strftime(\"%D\", time.localtime(int(date)))\n",
    "\n",
    "        # add those results to the lists \n",
    "        lats.append(lat)\n",
    "        lons.append(lon)\n",
    "        clouds.append(cloud)\n",
    "        dates.append(date)\n",
    "        list_of_cities.append(city)\n",
    "        \n",
    "    #     pprint(weather_json)\n",
    "    except:\n",
    "        print(\"City not found\")\n",
    "        pass \n",
    "# eventually we want to get to a DF\n",
    "\n",
    "# set up dictionary with the lists we created\n",
    "weather_dict = {\n",
    "    \"Date\": dates,\n",
    "    \"Cities\": list_of_cities,\n",
    "    \"Lat\": lats,\n",
    "    \"Lon\": lons,\n",
    "    \"Cloudiness(%)\": clouds\n",
    "}\n",
    "\n",
    "# put together our dictionary into a dataframe\n",
    "df = pd.DataFrame(weather_dict)\n",
    "print(df)"
   ]
  },
  {
   "cell_type": "code",
   "execution_count": 9,
   "metadata": {
    "ExecuteTime": {
     "end_time": "2021-01-15T16:47:13.042113Z",
     "start_time": "2021-01-15T16:47:12.909141Z"
    }
   },
   "outputs": [
    {
     "name": "stdout",
     "output_type": "stream",
     "text": [
      "The weather API responded with: {'coord': {'lon': -2.2374, 'lat': 53.4809}, 'weather': [{'id': 804, 'main': 'Clouds', 'description': 'overcast clouds', 'icon': '04n'}], 'base': 'stations', 'main': {'temp': 273.28, 'feels_like': 270.24, 'temp_min': 273.15, 'temp_max': 273.71, 'pressure': 1029, 'humidity': 100}, 'visibility': 7000, 'wind': {'speed': 1.54, 'deg': 0}, 'clouds': {'all': 90}, 'dt': 1610728534, 'sys': {'type': 1, 'id': 1379, 'country': 'GB', 'sunrise': 1610698605, 'sunset': 1610727577}, 'timezone': 0, 'id': 2643123, 'name': 'Manchester', 'cod': 200}.\n",
      "{'base': 'stations',\n",
      " 'clouds': {'all': 90},\n",
      " 'cod': 200,\n",
      " 'coord': {'lat': 53.4809, 'lon': -2.2374},\n",
      " 'dt': 1610728534,\n",
      " 'id': 2643123,\n",
      " 'main': {'feels_like': 270.24,\n",
      "          'humidity': 100,\n",
      "          'pressure': 1029,\n",
      "          'temp': 273.28,\n",
      "          'temp_max': 273.71,\n",
      "          'temp_min': 273.15},\n",
      " 'name': 'Manchester',\n",
      " 'sys': {'country': 'GB',\n",
      "         'id': 1379,\n",
      "         'sunrise': 1610698605,\n",
      "         'sunset': 1610727577,\n",
      "         'type': 1},\n",
      " 'timezone': 0,\n",
      " 'visibility': 7000,\n",
      " 'weather': [{'description': 'overcast clouds',\n",
      "              'icon': '04n',\n",
      "              'id': 804,\n",
      "              'main': 'Clouds'}],\n",
      " 'wind': {'deg': 0, 'speed': 1.54}}\n"
     ]
    }
   ],
   "source": [
    "# Get weather data\n",
    "weather_response = requests.get(query_url)\n",
    "weather_json = weather_response.json()\n",
    "\n",
    "# Get the temperature from the response\n",
    "print(f\"The weather API responded with: {weather_json}.\")\n",
    "pprint(weather_json)"
   ]
  },
  {
   "cell_type": "code",
   "execution_count": 21,
   "metadata": {
    "ExecuteTime": {
     "end_time": "2021-01-15T16:56:15.723038Z",
     "start_time": "2021-01-15T16:56:15.720260Z"
    }
   },
   "outputs": [],
   "source": [
    "t = weather_json[\"dt\"]"
   ]
  },
  {
   "cell_type": "code",
   "execution_count": 23,
   "metadata": {
    "ExecuteTime": {
     "end_time": "2021-01-15T16:56:41.911221Z",
     "start_time": "2021-01-15T16:56:41.906007Z"
    }
   },
   "outputs": [
    {
     "name": "stdout",
     "output_type": "stream",
     "text": [
      "Fri Jan 15 11:48:48 2021\n"
     ]
    },
    {
     "data": {
      "text/plain": [
       "'01/15/21'"
      ]
     },
     "execution_count": 23,
     "metadata": {},
     "output_type": "execute_result"
    }
   ],
   "source": [
    "import time\n",
    "print(time.ctime(int(t)))\n",
    "time.strftime(\"%D\", time.localtime(int(t)))"
   ]
  },
  {
   "cell_type": "code",
   "execution_count": null,
   "metadata": {},
   "outputs": [],
   "source": []
  },
  {
   "cell_type": "code",
   "execution_count": null,
   "metadata": {},
   "outputs": [],
   "source": []
  },
  {
   "cell_type": "code",
   "execution_count": 35,
   "metadata": {
    "ExecuteTime": {
     "end_time": "2021-01-15T17:15:51.693374Z",
     "start_time": "2021-01-15T17:15:51.658565Z"
    }
   },
   "outputs": [
    {
     "data": {
      "text/html": [
       "<div>\n",
       "<style scoped>\n",
       "    .dataframe tbody tr th:only-of-type {\n",
       "        vertical-align: middle;\n",
       "    }\n",
       "\n",
       "    .dataframe tbody tr th {\n",
       "        vertical-align: top;\n",
       "    }\n",
       "\n",
       "    .dataframe thead th {\n",
       "        text-align: right;\n",
       "    }\n",
       "</style>\n",
       "<table border=\"1\" class=\"dataframe\">\n",
       "  <thead>\n",
       "    <tr style=\"text-align: right;\">\n",
       "      <th></th>\n",
       "      <th>Date</th>\n",
       "      <th>Cities</th>\n",
       "      <th>Lat</th>\n",
       "      <th>Lon</th>\n",
       "      <th>Cloudiness(%)</th>\n",
       "    </tr>\n",
       "  </thead>\n",
       "  <tbody>\n",
       "    <tr>\n",
       "      <th>2</th>\n",
       "      <td>01/15/21</td>\n",
       "      <td>vaitape</td>\n",
       "      <td>-16.5167</td>\n",
       "      <td>-151.750</td>\n",
       "      <td>85</td>\n",
       "    </tr>\n",
       "    <tr>\n",
       "      <th>6</th>\n",
       "      <td>01/15/21</td>\n",
       "      <td>vaini</td>\n",
       "      <td>-21.2000</td>\n",
       "      <td>-175.200</td>\n",
       "      <td>40</td>\n",
       "    </tr>\n",
       "    <tr>\n",
       "      <th>8</th>\n",
       "      <td>01/15/21</td>\n",
       "      <td>port alfred</td>\n",
       "      <td>-33.5906</td>\n",
       "      <td>26.891</td>\n",
       "      <td>100</td>\n",
       "    </tr>\n",
       "    <tr>\n",
       "      <th>10</th>\n",
       "      <td>01/15/21</td>\n",
       "      <td>lebu</td>\n",
       "      <td>-37.6167</td>\n",
       "      <td>-73.650</td>\n",
       "      <td>39</td>\n",
       "    </tr>\n",
       "  </tbody>\n",
       "</table>\n",
       "</div>"
      ],
      "text/plain": [
       "        Date       Cities      Lat      Lon  Cloudiness(%)\n",
       "2   01/15/21      vaitape -16.5167 -151.750             85\n",
       "6   01/15/21        vaini -21.2000 -175.200             40\n",
       "8   01/15/21  port alfred -33.5906   26.891            100\n",
       "10  01/15/21         lebu -37.6167  -73.650             39"
      ]
     },
     "execution_count": 35,
     "metadata": {},
     "output_type": "execute_result"
    }
   ],
   "source": [
    "#separate into two dataframes \n",
    "southern_hemi_df = df.loc[df['Lat'] < 0] \n",
    "southern_hemi_df.head()"
   ]
  },
  {
   "cell_type": "code",
   "execution_count": 36,
   "metadata": {
    "ExecuteTime": {
     "end_time": "2021-01-15T17:16:21.641399Z",
     "start_time": "2021-01-15T17:16:21.627603Z"
    }
   },
   "outputs": [
    {
     "data": {
      "text/html": [
       "<div>\n",
       "<style scoped>\n",
       "    .dataframe tbody tr th:only-of-type {\n",
       "        vertical-align: middle;\n",
       "    }\n",
       "\n",
       "    .dataframe tbody tr th {\n",
       "        vertical-align: top;\n",
       "    }\n",
       "\n",
       "    .dataframe thead th {\n",
       "        text-align: right;\n",
       "    }\n",
       "</style>\n",
       "<table border=\"1\" class=\"dataframe\">\n",
       "  <thead>\n",
       "    <tr style=\"text-align: right;\">\n",
       "      <th></th>\n",
       "      <th>Date</th>\n",
       "      <th>Cities</th>\n",
       "      <th>Lat</th>\n",
       "      <th>Lon</th>\n",
       "      <th>Cloudiness(%)</th>\n",
       "    </tr>\n",
       "  </thead>\n",
       "  <tbody>\n",
       "    <tr>\n",
       "      <th>0</th>\n",
       "      <td>01/15/21</td>\n",
       "      <td>shimoda</td>\n",
       "      <td>34.6667</td>\n",
       "      <td>138.9500</td>\n",
       "      <td>9</td>\n",
       "    </tr>\n",
       "    <tr>\n",
       "      <th>1</th>\n",
       "      <td>01/15/21</td>\n",
       "      <td>sistranda</td>\n",
       "      <td>63.7256</td>\n",
       "      <td>8.8340</td>\n",
       "      <td>75</td>\n",
       "    </tr>\n",
       "    <tr>\n",
       "      <th>3</th>\n",
       "      <td>01/15/21</td>\n",
       "      <td>thompson</td>\n",
       "      <td>55.7435</td>\n",
       "      <td>-97.8558</td>\n",
       "      <td>75</td>\n",
       "    </tr>\n",
       "    <tr>\n",
       "      <th>4</th>\n",
       "      <td>01/15/21</td>\n",
       "      <td>kurayoshi</td>\n",
       "      <td>35.4333</td>\n",
       "      <td>133.8167</td>\n",
       "      <td>75</td>\n",
       "    </tr>\n",
       "    <tr>\n",
       "      <th>5</th>\n",
       "      <td>01/15/21</td>\n",
       "      <td>koulikoro</td>\n",
       "      <td>14.0000</td>\n",
       "      <td>-7.7500</td>\n",
       "      <td>0</td>\n",
       "    </tr>\n",
       "  </tbody>\n",
       "</table>\n",
       "</div>"
      ],
      "text/plain": [
       "       Date     Cities      Lat       Lon  Cloudiness(%)\n",
       "0  01/15/21    shimoda  34.6667  138.9500              9\n",
       "1  01/15/21  sistranda  63.7256    8.8340             75\n",
       "3  01/15/21   thompson  55.7435  -97.8558             75\n",
       "4  01/15/21  kurayoshi  35.4333  133.8167             75\n",
       "5  01/15/21  koulikoro  14.0000   -7.7500              0"
      ]
     },
     "execution_count": 36,
     "metadata": {},
     "output_type": "execute_result"
    }
   ],
   "source": [
    "northern_hemi_df = df.loc[df['Lat'] >=0] \n",
    "northern_hemi_df.head()"
   ]
  },
  {
   "cell_type": "code",
   "execution_count": 40,
   "metadata": {
    "ExecuteTime": {
     "end_time": "2021-01-15T17:23:16.205480Z",
     "start_time": "2021-01-15T17:23:15.879042Z"
    }
   },
   "outputs": [],
   "source": [
    "from scipy.stats import linregress\n",
    "import matplotlib.pyplot as plt"
   ]
  },
  {
   "cell_type": "code",
   "execution_count": 38,
   "metadata": {
    "ExecuteTime": {
     "end_time": "2021-01-15T17:21:49.648836Z",
     "start_time": "2021-01-15T17:21:49.643379Z"
    }
   },
   "outputs": [],
   "source": [
    " def linregress_scatter(x_values, y_values):\n",
    "    # Run linear regression\n",
    "    (slope, intercept, rvalue, pvalue, stderr) = linregress(x_values, y_values)\n",
    "    regress_values = x_values * slope + intercept\n",
    "    line_eq = \"y = \" + str(round(slope,2)) + \"x + \" + str(round(intercept,2))\n",
    "\n",
    "    # Plot scatter plot\n",
    "    plt.scatter(x_values,y_values)\n",
    "\n",
    "    # Plot regression line\n",
    "    plt.plot(x_values,regress_values,\"r-\")\n",
    "    plt.annotate(line_eq,(6,10),fontsize=15,color=\"red\")\n",
    "\n",
    "    # Label plot\n",
    "    plt.xlabel('Lat')\n",
    "    plt.ylabel('Cloudiness')\n",
    "\n",
    "    # Print r square value\n",
    "    print(f\"R squared: {rvalue**2}\")\n",
    "\n",
    "    # Show plot\n",
    "    plt.show()"
   ]
  },
  {
   "cell_type": "code",
   "execution_count": 41,
   "metadata": {
    "ExecuteTime": {
     "end_time": "2021-01-15T17:23:18.864649Z",
     "start_time": "2021-01-15T17:23:18.638661Z"
    }
   },
   "outputs": [
    {
     "name": "stdout",
     "output_type": "stream",
     "text": [
      "R squared: 0.5716486513786503\n"
     ]
    },
    {
     "data": {
      "image/png": "[encoded data removed]",
      "text/plain": [
       "<Figure size 432x288 with 1 Axes>"
      ]
     },
     "metadata": {
      "needs_background": "light"
     },
     "output_type": "display_data"
    }
   ],
   "source": [
    "linregress_scatter(northern_hemi_df['Lat'], northern_hemi_df['Cloudiness(%)'])"
   ]
  },
  {
   "cell_type": "code",
   "execution_count": null,
   "metadata": {},
   "outputs": [],
   "source": []
  }
 ],
 "metadata": {
  "kernelspec": {
   "display_name": "Python 3",
   "language": "python",
   "name": "python3"
  },
  "language_info": {
   "codemirror_mode": {
    "name": "ipython",
    "version": 3
   },
   "file_extension": ".py",
   "mimetype": "text/x-python",
   "name": "python",
   "nbconvert_exporter": "python",
   "pygments_lexer": "ipython3",
   "version": "3.8.3"
  },
  "toc": {
   "base_numbering": 1,
   "nav_menu": {},
   "number_sections": true,
   "sideBar": true,
   "skip_h1_title": false,
   "title_cell": "Table of Contents",
   "title_sidebar": "Contents",
   "toc_cell": false,
   "toc_position": {},
   "toc_section_display": true,
   "toc_window_display": false
  },
  "varInspector": {
   "cols": {
    "lenName": 16,
    "lenType": 16,
    "lenVar": 40
   },
   "kernels_config": {
    "python": {
     "delete_cmd_postfix": "",
     "delete_cmd_prefix": "del ",
     "library": "var_list.py",
     "varRefreshCmd": "print(var_dic_list())"
    },
    "r": {
     "delete_cmd_postfix": ") ",
     "delete_cmd_prefix": "rm(",
     "library": "var_list.r",
     "varRefreshCmd": "cat(var_dic_list()) "
    }
   },
   "types_to_exclude": [
    "module",
    "function",
    "builtin_function_or_method",
    "instance",
    "_Feature"
   ],
   "window_display": false
  }
 },
 "nbformat": 4,
 "nbformat_minor": 2
}
